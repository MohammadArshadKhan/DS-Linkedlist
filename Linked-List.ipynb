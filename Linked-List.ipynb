{
 "cells": [
  {
   "cell_type": "markdown",
   "metadata": {},
   "source": [
    "### Assignment 2 - Data Structures & Algrothims\n",
    "Name: Mohammad Arshad Khan\n",
    "Student number: 19200438\n"
   ]
  },
  {
   "cell_type": "markdown",
   "metadata": {},
   "source": [
    "### Introduction\n",
    "In this assignment we will introduce a data structure known as a linked list. Which provide an alternative to an array-based sequences.\n",
    "And the implementation of a Stack in Linked List."
   ]
  },
  {
   "cell_type": "markdown",
   "metadata": {},
   "source": [
    "### Part 1 - Implement the linked lists data structures in Python\n",
    "\n",
    "#### Linked Lists\n",
    "\n",
    "A linked list is a sequence of data elements, which are connected together via links. Each data element contains a connection to another data element in form of a pointer. Python does not have linked lists in its standard library. We implement the concept of linked lists using the concept of nodes. A node has two parts a data and next (appointing to which next node). A linked list is a data structure used to store a collection of a items. head data is the first element in a linked list.\n",
    "\n",
    "reference: Lecture notes and https://www.tutorialspoint.com/python_data_structure/python_linked_lists.htm\n"
   ]
  },
  {
   "cell_type": "code",
   "execution_count": 1,
   "metadata": {},
   "outputs": [],
   "source": [
    "class Node:  #ref: https://stackabuse.com/linked-lists-in-detail-with-python-examples-single-linked-lists/\n",
    "    \n",
    "    def __init__(self, data):\n",
    "        self.item = data\n",
    "        self.ref = None"
   ]
  },
  {
   "cell_type": "code",
   "execution_count": 2,
   "metadata": {},
   "outputs": [],
   "source": [
    "class LinkedList:  #ref: https://stackabuse.com/linked-lists-in-detail-with-python-examples-single-linked-lists/\n",
    "    \n",
    "    def __init__(self):\n",
    "        self.start_node = None\n",
    "    \n",
    "    \n",
    "    def traverse(self):\n",
    "        \n",
    "        if self.start_node is None:\n",
    "            print(\"Empty List\")\n",
    "            return\n",
    "        else:\n",
    "            l= self.start_node\n",
    "            while l is not None:\n",
    "                print(l.item , \" \")\n",
    "                l = l.ref\n",
    "            \n",
    "    def insert_at_start(self, element):\n",
    "        new_node = Node(element)\n",
    "        new_node.ref = self.start_node\n",
    "        self.start_node= new_node\n",
    "    \n",
    "    \n",
    "    def insert_at_end(self, element):\n",
    "        new_node = Node(element)\n",
    "        if self.start_node is None:\n",
    "            self.start_node = new_node\n",
    "            return\n",
    "        l= self.start_node\n",
    "        while l.ref is not None:\n",
    "            l= l.ref\n",
    "        l.ref = new_node;\n",
    "    \n",
    "    def remove_at_start(self):\n",
    "        if self.start_node is None:\n",
    "            print(\"Empty list\")\n",
    "            return \n",
    "        self.start_node = self.start_node.ref\n",
    "    \n",
    "    def make_new_list(self):\n",
    "        nums = int(input(\"How many nodes do you want to create: \"))\n",
    "        if nums == 0:\n",
    "            return\n",
    "        for i in range(nums):\n",
    "            value = int(input(\"Enter the value for the node:\"))\n",
    "            self.insert_at_end(value)\n",
    "    \n",
    "    "
   ]
  },
  {
   "cell_type": "code",
   "execution_count": 3,
   "metadata": {},
   "outputs": [],
   "source": [
    "new_linked_list = LinkedList() #object of the Linked List\n",
    "\n",
    "new_linked_list.insert_at_end(5) #inserting at the end of list by calling the insert_at_end()\n",
    "new_linked_list.insert_at_end(10)\n",
    "new_linked_list.insert_at_end(15)"
   ]
  },
  {
   "cell_type": "code",
   "execution_count": 4,
   "metadata": {},
   "outputs": [],
   "source": [
    "new_linked_list.insert_at_start(12) #inserting at the start of list by calling the insert_at_start()"
   ]
  },
  {
   "cell_type": "code",
   "execution_count": 5,
   "metadata": {
    "scrolled": true
   },
   "outputs": [
    {
     "name": "stdout",
     "output_type": "stream",
     "text": [
      "12  \n",
      "5  \n",
      "10  \n",
      "15  \n"
     ]
    }
   ],
   "source": [
    "new_linked_list.traverse() # getting the element of the list using traverse()"
   ]
  },
  {
   "cell_type": "code",
   "execution_count": 6,
   "metadata": {},
   "outputs": [
    {
     "name": "stdout",
     "output_type": "stream",
     "text": [
      "How many nodes do you want to create: 3\n",
      "Enter the value for the node:4\n",
      "Enter the value for the node:5\n",
      "Enter the value for the node:6\n"
     ]
    }
   ],
   "source": [
    "new_linked_list_2= LinkedList()\n",
    "new_linked_list_2.make_new_list() #inserting using the make_new_list()"
   ]
  },
  {
   "cell_type": "code",
   "execution_count": 7,
   "metadata": {},
   "outputs": [],
   "source": [
    "new_linked_list.remove_at_start()\n",
    "new_linked_list_2.remove_at_start()"
   ]
  },
  {
   "cell_type": "code",
   "execution_count": 8,
   "metadata": {},
   "outputs": [
    {
     "name": "stdout",
     "output_type": "stream",
     "text": [
      "5  \n",
      "10  \n",
      "15  \n"
     ]
    }
   ],
   "source": [
    "new_linked_list.traverse()"
   ]
  },
  {
   "cell_type": "code",
   "execution_count": 9,
   "metadata": {},
   "outputs": [
    {
     "name": "stdout",
     "output_type": "stream",
     "text": [
      "5  \n",
      "6  \n"
     ]
    }
   ],
   "source": [
    "new_linked_list_2.traverse()"
   ]
  },
  {
   "cell_type": "markdown",
   "metadata": {},
   "source": [
    "### Part1 Task 2 stack and que ADT\n",
    "reference: https://www.edureka.co/blog/stack-in-python/\n",
    "\n",
    "Define in your own words the terms:  stack ADT and queue ADT. List the key operations and support operations commonly associated with these ADTs.  For each ADT, give two real world data examples and explain them briefly.\n",
    "\n",
    "### Stack ADT\n",
    "A stack is a collection of objects that are inserted and removed according to the last-in,first-out(LIFO) priciple. A user may insert objects into a stack at any time, but mayb only access or remove the most recently inserted object that remains.\n",
    "\n",
    "reference- Note Book:Data Structures and algorithm in python.(Goodrich,Tamassia and Goldwasser).\n",
    "\n",
    "reference: Lecture notes and https://dbader.org/blog/stacks-in-python\n",
    "\n",
    "###### There are two key types of operations for Stack:\n",
    "\n",
    "Push(o) – To add data into the stack. It inserts object o onto top of stack.\n",
    "\n",
    "Pop() – To remove data from the stack. Removes the top object of stack and returns it; if stack is empty an error occurs.\n",
    "\n",
    "###### The following support methods for Stack:\n",
    "\n",
    "size():  Returns the number of objects in stack\n",
    "\n",
    "isempty():  Return a boolean indicating if stack is empty.\n",
    "\n",
    "top() or peek():  Return the top object of the stack, without removing it; if the stack is empty an error occurs.\n",
    "\n",
    "Another real world example of stack is stack of pancakes\n",
    "Stack ADT Like a queue but single ended\n",
    "\n",
    "Stack can be implemented using either array or linked list. In our case i will implement using array (i.e. list in python).\n",
    "\n",
    "###### Real world example of Stack:\n",
    "1.Stack of dinner plates on table.\n",
    "2.Stack of Moulded chairs.\n",
    "3.Text editor usually provide undo process that also follows stack operation.\n",
    "\n",
    "\n",
    "### Queue ADT\n",
    "Another fundamental data structure is the queue. It is a close \"cousin\" of the stack,as a queue is a collection of objects that are inserted and removed according to the first-in first-out principle.That is the element can insert at anytime, but only the element that has been in the queue for the longest can be next removed.\n",
    "\n",
    "###### The queue supports two key methods:\n",
    "\n",
    "1. enqueue(o):  Insert object o at the rear of the queue\n",
    "\n",
    "2. Nonedequeue():  Remove the object from the front of the queue and return it; an error occurs if the queue is empty\n",
    "\n",
    "###### Support methods for queue:\n",
    "\n",
    "size():  Return the number of objects in the queue\n",
    "\n",
    "integerisempty():  Return a boolean value that indicates whether the queue is empty.\n",
    "\n",
    "booleanfront():  Return, but DO NOT REMOVE, the front object in the queue; an error occurs if the queue is empty.\n",
    "\n",
    "###### Real world example of Queue:\n",
    "1.Stores, theaters, reservation centers and the other similar process follows the queue process.\n",
    "2.Phone calls being routed to a customer service center"
   ]
  },
  {
   "cell_type": "markdown",
   "metadata": {},
   "source": [
    "### Part 2.1\n",
    "\n",
    "Adopt the ADT concepts of Part I (task 2) to provide acomplete implementation of a stack ADT"
   ]
  },
  {
   "cell_type": "code",
   "execution_count": 10,
   "metadata": {},
   "outputs": [],
   "source": [
    "class LinkedStack:\n",
    "    \"\"\"LIFO: Linked Stack works on Last In First Out \"\"\"\n",
    "    class _Node:\n",
    "        __slots__='_element','_next'\n",
    "        \n",
    "        def __init__(self, element, next):\n",
    "            self._element=element\n",
    "            self._next= next\n",
    "    def __init__(self):\n",
    "        self._head=None\n",
    "        self._size=0\n",
    "    \n",
    "    def __len__(self):\n",
    "        return self._size\n",
    "    \n",
    "    def is_empty(self):\n",
    "        return self._size==0\n",
    "    \n",
    "    def push(self,e):\n",
    "        self._head = self._Node(e,self._head)\n",
    "        self._size+= 1\n",
    "        \n",
    "    def top(self):\n",
    "        \n",
    "        if self.is_empty():\n",
    "            return (\"Stack is Empty\")\n",
    "        return self._head._element\n",
    "    \n",
    "    def pop(self):\n",
    "        \n",
    "        if self.is_empty():\n",
    "            return (\"Stack is Empty\")\n",
    "        answer= self._head._element\n",
    "        self._head= self._head._next\n",
    "        self._size-=1\n",
    "        return answer\n",
    "    \n",
    "    def traverse(self): # to print the elements in the stacked list\n",
    "        \n",
    "        if self._head is None:\n",
    "            print(\"Empty List\")\n",
    "            return\n",
    "        else:\n",
    "            l= self._head\n",
    "            for i in range(0,self._size):\n",
    "                print(l._element , \" \")\n",
    "                l = l._next\n",
    "    \n",
    "    "
   ]
  },
  {
   "cell_type": "markdown",
   "metadata": {},
   "source": [
    "### Process and complexity:\n",
    "\n",
    "empty() – Returns whether the stack is empty – Time Complexity : O(1)\n",
    "\n",
    "size() – Returns the size of the stack – Time Complexity : O(1)\n",
    "\n",
    "top() – Returns a reference to the top most element of the stack – Time Complexity : O(1)\n",
    "\n",
    "push(g) – Adds the element ‘g’ at the top of the stack – Time Complexity : O(1)\n",
    "\n",
    "pop() – Deletes the top most element of the stack – Time Complexity : O(1)"
   ]
  },
  {
   "cell_type": "markdown",
   "metadata": {},
   "source": [
    "### Part 2.2 - What values are returned during the following series of stack operations, if executed upon an initially empty stack S     \n",
    "\n",
    "s= LinkedStack()\n",
    "\n",
    "s.push(5) # This will append the element '5' into the stack and the size of the stack will be 1 with element as 5.\n",
    "\n",
    "s.push(3) # This will append the element '3' into the stack and the size of the stack will be 2 with elements as 5,3.\n",
    "\n",
    "s.pop()   # Deletes the top most element of the stack therefore will delete 3 and remaining element 5 and size will be 1.\n",
    "\n",
    "s.push(2) # Adds the element ‘2’ at the top of the stack – size is 2 and elements 5,2.\n",
    "\n",
    "s.push(8) # Adds the element ‘8’ at the top of the stack – size is 3 and elements  5, 2, 8\n",
    "\n",
    "s.pop() --> Deletes the top most element of the stack therefore will delete 8 and remaining elements 5, 2\n",
    "\n",
    "s.pop() --> Deletes the top most element of the stack therefore will delete 2 and  remaining element 5\n",
    "\n",
    "s.push(9) --> Adds the element ‘9’ at the top of the stack – size is 2 and elements 5, 9\n",
    "\n",
    "s.push(1) --> Adds the element ‘1’ at the top of the stack – size is 3 and elements 5, 9, 1\n",
    "\n",
    "s.pop() --> Deletes the top most element of the stack therefore will delete 1 and remaining elements 5, 9\n",
    "\n",
    "s.push(7) --> Adds the element ‘7’ at the top of the stack – size is 3 and elements 5, 9, 7\n",
    "\n",
    "s.push(6) --> Adds the element ‘6’ at the top of the stack – size is 4 and elements 5, 9, 7, 6\n",
    "\n",
    "s.pop() --> Deletes the top most element of the stack therefore will delete 6 and remaining elements 5, 9, 7\n",
    "\n",
    "s.pop() --> Deletes the top most element of the stack therefore will delete 7 and remaining elements 5, 9\n",
    "\n",
    "s.push(4) --> Adds the element ‘4’ at the top of the stack – size is 3 and elements 5, 9, 4\n",
    "\n",
    "s.pop() --> Deletes the top most element of the stack therefore will delete '4' and remaining elements 5, 9\n",
    "\n",
    "s.pop() --> Deletes the top most element of the stack therefore will delete '9' and remaining elements 5\n",
    "\n",
    "print(s.items) # there is only 1 element whos which value is 5\n",
    "\n",
    "print(s.size())\n"
   ]
  },
  {
   "cell_type": "markdown",
   "metadata": {},
   "source": [
    "Part 2.3 Suppose an initially empty stack S has executed a total of 35 push operations, 15 top operations, and 10 pop operations,3 of which raised Empty errors that were caught and ignored.What is the current size of S?\n",
    "so 15 top operations just prints the top elements in a stack so it dosent affect the size of stack. 10 pop (remove) operations with 3 errors so therefore 7 pop operations. so 35 - 7 = 28.\n",
    "\n",
    "The current size of S is 28."
   ]
  },
  {
   "cell_type": "code",
   "execution_count": 11,
   "metadata": {},
   "outputs": [],
   "source": [
    "s= LinkedStack()"
   ]
  },
  {
   "cell_type": "code",
   "execution_count": 12,
   "metadata": {},
   "outputs": [
    {
     "data": {
      "text/plain": [
       "9"
      ]
     },
     "execution_count": 12,
     "metadata": {},
     "output_type": "execute_result"
    }
   ],
   "source": [
    "\n",
    "s.push(5)# the stack size will be 1 with element 5\n",
    "\n",
    "s.push(3) # This will append the element '3' into the stack -\n",
    "\n",
    "s.pop() # Deletes the top most element of the stack therefore will delete 3\n",
    "\n",
    "s.push(2)\n",
    "s.push(8)\n",
    "s.pop()\n",
    "s.pop()\n",
    "s.push(9)\n",
    "s.push(1)\n",
    "\n",
    "s.pop()\n",
    "s.push(7)\n",
    "s.push(6)\n",
    "s.pop()\n",
    "s.pop()\n",
    "\n",
    "s.push(4)\n",
    "s.pop()\n",
    "s.pop() # This pop() will print the latest removed element ie. 9 in current flow"
   ]
  },
  {
   "cell_type": "code",
   "execution_count": 13,
   "metadata": {},
   "outputs": [
    {
     "name": "stdout",
     "output_type": "stream",
     "text": [
      "5  \n"
     ]
    }
   ],
   "source": [
    "s.traverse() # to get the final list"
   ]
  },
  {
   "cell_type": "code",
   "execution_count": null,
   "metadata": {},
   "outputs": [],
   "source": []
  }
 ],
 "metadata": {
  "kernelspec": {
   "display_name": "Python 3",
   "language": "python",
   "name": "python3"
  },
  "language_info": {
   "codemirror_mode": {
    "name": "ipython",
    "version": 3
   },
   "file_extension": ".py",
   "mimetype": "text/x-python",
   "name": "python",
   "nbconvert_exporter": "python",
   "pygments_lexer": "ipython3",
   "version": "3.7.6"
  }
 },
 "nbformat": 4,
 "nbformat_minor": 2
}
